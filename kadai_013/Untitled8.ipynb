{
  "nbformat": 4,
  "nbformat_minor": 0,
  "metadata": {
    "colab": {
      "provenance": []
    },
    "kernelspec": {
      "name": "python3",
      "display_name": "Python 3"
    },
    "language_info": {
      "name": "python"
    }
  },
  "cells": [
    {
      "cell_type": "code",
      "execution_count": 11,
      "metadata": {
        "colab": {
          "base_uri": "https://localhost:8080/"
        },
        "id": "GkqNKvDLphfn",
        "outputId": "f56bcfdd-1b39-4dcd-9f06-fa42a7f85c40"
      },
      "outputs": [
        {
          "output_type": "execute_result",
          "data": {
            "text/plain": [
              "1650.0"
            ]
          },
          "metadata": {},
          "execution_count": 11
        }
      ],
      "source": [
        "\n",
        "def calculate_tax(price, tax):\n",
        "  total = price + price * tax\n",
        "\n",
        "  return total\n",
        "\n",
        "calculate_tax(1500, 0.1)"
      ]
    }
  ]
}