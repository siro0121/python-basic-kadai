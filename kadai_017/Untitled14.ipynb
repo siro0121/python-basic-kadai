{
  "nbformat": 4,
  "nbformat_minor": 0,
  "metadata": {
    "colab": {
      "provenance": []
    },
    "kernelspec": {
      "name": "python3",
      "display_name": "Python 3"
    },
    "language_info": {
      "name": "python"
    }
  },
  "cells": [
    {
      "cell_type": "code",
      "execution_count": 10,
      "metadata": {
        "colab": {
          "base_uri": "https://localhost:8080/"
        },
        "id": "NMJLb3XftBmD",
        "outputId": "194792c8-572c-4e31-d4b1-e62b58bed62a"
      },
      "outputs": [
        {
          "output_type": "stream",
          "name": "stdout",
          "text": [
            "太郎は27歳なので大人です\n",
            "二郎は24歳なので大人です\n",
            "サブ子は18歳なので大人ではありません\n",
            "ちびこは11歳なので大人ではありません\n"
          ]
        }
      ],
      "source": [
        "human_name = {\"太郎\":27, \"二郎\":24, \"サブ子\":18, \"ちびこ\":11}\n",
        "\n",
        "class Human:\n",
        "  def __init__(self, name, age):\n",
        "    self.name = name\n",
        "    self.age = age\n",
        "\n",
        "  def check_adult(self):\n",
        "    if self.age >= 20:\n",
        "      print(f\"{self.name}は{self.age}歳なので大人です\")\n",
        "\n",
        "    else:\n",
        "      print(f\"{self.name}は{self.age}歳なので大人ではありません\")\n",
        "\n",
        "for key, value in human_name.items():\n",
        "    human = Human(key,value)\n",
        "    human.check_adult()"
      ]
    }
  ]
}