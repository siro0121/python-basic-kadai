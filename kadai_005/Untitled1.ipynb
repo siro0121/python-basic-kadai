{
  "nbformat": 4,
  "nbformat_minor": 0,
  "metadata": {
    "colab": {
      "provenance": []
    },
    "kernelspec": {
      "name": "python3",
      "display_name": "Python 3"
    },
    "language_info": {
      "name": "python"
    }
  },
  "cells": [
    {
      "cell_type": "code",
      "execution_count": 4,
      "metadata": {
        "colab": {
          "base_uri": "https://localhost:8080/"
        },
        "id": "-BhZrr643Y7R",
        "outputId": "ddc04e50-4461-4fbe-87b0-cd940736d948"
      },
      "outputs": [
        {
          "output_type": "stream",
          "name": "stdout",
          "text": [
            "75.0cm²\n"
          ]
        }
      ],
      "source": [
        "top = 10\n",
        "under = 20\n",
        "hight = 5\n",
        "area = (top + under) * hight / 2\n",
        "\n",
        "print(f\"{area}cm²\")"
      ]
    }
  ]
}